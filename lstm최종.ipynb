{
  "nbformat": 4,
  "nbformat_minor": 0,
  "metadata": {
    "colab": {
      "provenance": []
    },
    "kernelspec": {
      "name": "python3",
      "display_name": "Python 3"
    },
    "language_info": {
      "name": "python"
    }
  },
  "cells": [
    {
      "cell_type": "code",
      "source": [
        "from google.colab import drive\n",
        "drive.mount('/content/drive')"
      ],
      "metadata": {
        "colab": {
          "base_uri": "https://localhost:8080/"
        },
        "id": "5TRSuIH-drdS",
        "outputId": "cf2d91de-a287-4091-ae15-9b98671ba291"
      },
      "execution_count": null,
      "outputs": [
        {
          "output_type": "stream",
          "name": "stdout",
          "text": [
            "Mounted at /content/drive\n"
          ]
        }
      ]
    },
    {
      "cell_type": "code",
      "source": [
        "import numpy as np\n",
        "from sklearn.metrics import mean_squared_error\n",
        "import pandas as pd\n",
        "from sklearn.model_selection import TimeSeriesSplit\n",
        "from sklearn.metrics import mean_squared_error\n",
        "from keras.models import Sequential\n",
        "from keras.layers import LSTM, Dense"
      ],
      "metadata": {
        "id": "FJFvCbcgdyYp"
      },
      "execution_count": null,
      "outputs": []
    },
    {
      "cell_type": "code",
      "source": [
        "# .pkl 파일 경로 설정\n",
        "file_path = '/content/drive/MyDrive/1/df_train_final_잔차(정규화완료)(famd완료).csv.pkl의 사본'\n",
        "\n",
        "# Pickle 파일 열기\n",
        "df= pd.read_pickle(file_path)"
      ],
      "metadata": {
        "id": "ZWZqpTfEdxVj"
      },
      "execution_count": null,
      "outputs": []
    },
    {
      "cell_type": "code",
      "source": [
        "df.index = pd.to_datetime(df.index)\n",
        "df.reset_index(inplace=True)\n",
        "df['Datetime']=pd.to_datetime(df['Datetime'])\n",
        "df['Year'] = df['Datetime'].dt.year\n",
        "df['Month'] = df['Datetime'].dt.month\n",
        "df.info()"
      ],
      "metadata": {
        "id": "LR3rpBAzTaze"
      },
      "execution_count": null,
      "outputs": []
    },
    {
      "cell_type": "code",
      "source": [
        "#폴드 나누기\n",
        "fold1_train = df[(df['Year'] == 2020) & (df['Month'].isin([3, 4, 5]))]\n",
        "fold1_train = pd.concat([fold1_train, df[(df['Year'] == 2021) & (df['Month'].isin([3, 4]))]])\n",
        "fold1_val = df[(df['Year'] == 2021) & (df['Month'] == 5)]\n",
        "\n",
        "fold2_train = df[(df['Year'] == 2020) & (df['Month'].isin([6, 7, 8]))]\n",
        "fold2_train = pd.concat([fold2_train, df[(df['Year'] == 2021) & (df['Month'].isin([6, 7]))]])\n",
        "fold2_val = df[(df['Year'] == 2021) & (df['Month'] == 8)]\n",
        "\n",
        "fold3_train = df[(df['Year'] == 2020) & (df['Month'].isin([9, 10, 11]))]\n",
        "fold3_train = pd.concat([fold3_train, df[(df['Year'] == 2021) & (df['Month'].isin([9, 10]))]])\n",
        "fold3_val = df[(df['Year'] == 2021) & (df['Month'] == 11)]\n",
        "\n",
        "fold4_train = df[(df['Year'] == 2020) & (df['Month'].isin([12, 1, 2]))]\n",
        "fold4_train = pd.concat([fold4_train, df[(df['Year'] == 2021) & (df['Month'].isin([1, 2]))]])\n",
        "fold4_val = df[(df['Year'] == 2021) & (df['Month'] == 12)]\n"
      ],
      "metadata": {
        "id": "xeyZYZ6geBO9"
      },
      "execution_count": null,
      "outputs": []
    },
    {
      "cell_type": "code",
      "source": [
        "#각각 준비\n",
        "# Fold 1\n",
        "X_fold1_train, y_fold1_train = fold1_train.drop(['uv','Year', 'Month','Datetime'], axis=1), fold1_train['uv']\n",
        "X_fold1_val, y_fold1_val = fold1_val.drop(['uv','Year', 'Month','Datetime'], axis=1), fold1_val['uv']\n",
        "\n",
        "# Fold 2\n",
        "X_fold2_train, y_fold2_train = fold2_train.drop(['uv','Year', 'Month','Datetime'], axis=1), fold2_train['uv']\n",
        "X_fold2_val, y_fold2_val = fold2_val.drop(['uv', 'Year', 'Month','Datetime'],axis=1), fold2_val['uv']\n",
        "\n",
        "# Fold 3\n",
        "X_fold3_train, y_fold3_train = fold3_train.drop(['uv','Year', 'Month','Datetime'], axis=1), fold3_train['uv']\n",
        "X_fold3_val, y_fold3_val = fold3_val.drop(['uv', 'Year', 'Month','Datetime'],axis=1), fold3_val['uv']\n",
        "\n",
        "# Fold 4\n",
        "X_fold4_train, y_fold4_train = fold4_train.drop(['uv', 'Year', 'Month','Datetime'],axis=1), fold4_train['uv']\n",
        "X_fold4_val, y_fold4_val = fold4_val.drop(['uv', 'Year', 'Month','Datetime'],axis=1), fold4_val['uv']\n",
        "\n"
      ],
      "metadata": {
        "id": "K0sCdexUfrcl"
      },
      "execution_count": null,
      "outputs": []
    },
    {
      "cell_type": "code",
      "source": [
        "# Fold 1\n",
        "X_fold1_train = np.array(X_fold1_train)\n",
        "X_fold1_val = np.array(X_fold1_val)\n",
        "\n",
        "# 조정된 형태로 변환\n",
        "X_fold1_train = np.reshape(X_fold1_train, (X_fold1_train.shape[0], X_fold1_train.shape[1], 1))\n",
        "X_fold1_val = np.reshape(X_fold1_val, (X_fold1_val.shape[0], X_fold1_val.shape[1], 1))\n",
        "\n",
        "# Fold 2\n",
        "X_fold2_train = np.array(X_fold2_train)\n",
        "X_fold2_val = np.array(X_fold2_val)\n",
        "\n",
        "# 조정된 형태로 변환\n",
        "X_fold2_train = np.reshape(X_fold2_train, (X_fold2_train.shape[0], X_fold2_train.shape[1], 1))\n",
        "X_fold2_val = np.reshape(X_fold2_val, (X_fold2_val.shape[0], X_fold2_val.shape[1], 1))\n",
        "\n",
        "# Fold 3\n",
        "X_fold3_train = np.array(X_fold3_train)\n",
        "X_fold3_val = np.array(X_fold3_val)\n",
        "\n",
        "# 조정된 형태로 변환\n",
        "X_fold3_train = np.reshape(X_fold3_train, (X_fold3_train.shape[0], X_fold3_train.shape[1], 1))\n",
        "X_fold3_val = np.reshape(X_fold3_val, (X_fold3_val.shape[0], X_fold3_val.shape[1], 1))\n",
        "\n",
        "# Fold 4\n",
        "X_fold4_train = np.array(X_fold4_train)\n",
        "X_fold4_val = np.array(X_fold4_val)\n",
        "\n",
        "# 조정된 형태로 변환\n",
        "X_fold4_train = np.reshape(X_fold4_train, (X_fold4_train.shape[0], X_fold4_train.shape[1], 1))\n",
        "X_fold4_val = np.reshape(X_fold4_val, (X_fold4_val.shape[0], X_fold4_val.shape[1], 1))"
      ],
      "metadata": {
        "id": "QdvMdS7_mYe1"
      },
      "execution_count": null,
      "outputs": []
    },
    {
      "cell_type": "code",
      "source": [
        "batch_size=32\n",
        "timesteps = 4\n",
        "features = 1"
      ],
      "metadata": {
        "id": "3laX7WiuhuGr"
      },
      "execution_count": null,
      "outputs": []
    },
    {
      "cell_type": "code",
      "source": [
        "# Model 1\n",
        "model1 = Sequential()\n",
        "model1.add(LSTM(units=64, input_shape=(timesteps, 1)))\n",
        "model1.add(Dense(units=1))\n",
        "model1.compile(optimizer='adam', loss='mse')\n",
        "model1.fit(X_fold1_train, y_fold1_train, epochs=10, batch_size=32, validation_data=(X_fold1_val, y_fold1_val))"
      ],
      "metadata": {
        "colab": {
          "base_uri": "https://localhost:8080/"
        },
        "id": "bD-A8YAvjNF5",
        "outputId": "aac1b8e4-2fcd-482d-e757-5d1e4ee50ec8"
      },
      "execution_count": null,
      "outputs": [
        {
          "output_type": "stream",
          "name": "stdout",
          "text": [
            "Epoch 1/10\n",
            "6885/6885 [==============================] - 43s 6ms/step - loss: 4.4768 - val_loss: 6.0521\n",
            "Epoch 2/10\n",
            "6885/6885 [==============================] - 50s 7ms/step - loss: 4.1722 - val_loss: 5.7368\n",
            "Epoch 3/10\n",
            "6885/6885 [==============================] - 47s 7ms/step - loss: 4.0550 - val_loss: 5.7192\n",
            "Epoch 4/10\n",
            "6885/6885 [==============================] - 46s 7ms/step - loss: 3.9924 - val_loss: 5.6639\n",
            "Epoch 5/10\n",
            "6885/6885 [==============================] - 46s 7ms/step - loss: 3.9565 - val_loss: 5.6120\n",
            "Epoch 6/10\n",
            "6885/6885 [==============================] - 39s 6ms/step - loss: 3.9256 - val_loss: 5.6287\n",
            "Epoch 7/10\n",
            "6885/6885 [==============================] - 41s 6ms/step - loss: 3.9035 - val_loss: 5.6627\n",
            "Epoch 8/10\n",
            "6885/6885 [==============================] - 38s 6ms/step - loss: 3.8859 - val_loss: 5.6300\n",
            "Epoch 9/10\n",
            "6885/6885 [==============================] - 36s 5ms/step - loss: 3.8690 - val_loss: 5.5850\n",
            "Epoch 10/10\n",
            "6885/6885 [==============================] - 32s 5ms/step - loss: 3.8546 - val_loss: 5.5160\n"
          ]
        },
        {
          "output_type": "execute_result",
          "data": {
            "text/plain": [
              "<keras.callbacks.History at 0x7efe2e4da530>"
            ]
          },
          "metadata": {},
          "execution_count": 9
        }
      ]
    },
    {
      "cell_type": "code",
      "source": [
        "# Train set 예측 결과와 RMSE 계산\n",
        "train_predictions1 = model1.predict(X_fold1_train)\n",
        "fold1_rmse1 = mean_squared_error(y_fold1_train, train_predictions1, squared=False)\n",
        "\n",
        "# Validation set 예측 결과와 RMSE 계산\n",
        "val_predictions1 = model1.predict(X_fold1_val)\n",
        "fold1_rmse2 = mean_squared_error(y_fold1_val, val_predictions1, squared=False)"
      ],
      "metadata": {
        "id": "6eFuzrLtjrZ8",
        "colab": {
          "base_uri": "https://localhost:8080/"
        },
        "outputId": "1215885d-a2f4-4f8f-8127-2dfe51a20ac7"
      },
      "execution_count": null,
      "outputs": [
        {
          "output_type": "stream",
          "name": "stdout",
          "text": [
            "6885/6885 [==============================] - 17s 2ms/step\n",
            "1395/1395 [==============================] - 3s 2ms/step\n"
          ]
        }
      ]
    },
    {
      "cell_type": "code",
      "source": [
        "# Model 2\n",
        "model2 = Sequential()\n",
        "model2.add(LSTM(units=64, input_shape=(timesteps, 1)))\n",
        "model2.add(Dense(units=1))\n",
        "model2.compile(optimizer='adam', loss='mse')\n",
        "model2.fit(X_fold2_train, y_fold2_train, epochs=10, batch_size=32, validation_data=(X_fold2_val, y_fold2_val))"
      ],
      "metadata": {
        "id": "vF1lWZhBjQ9A",
        "colab": {
          "base_uri": "https://localhost:8080/"
        },
        "outputId": "25ead38d-71da-4e7b-ed7a-907248901f15"
      },
      "execution_count": null,
      "outputs": [
        {
          "output_type": "stream",
          "name": "stdout",
          "text": [
            "Epoch 1/10\n",
            "6885/6885 [==============================] - 38s 5ms/step - loss: 6.5082 - val_loss: 5.5097\n",
            "Epoch 2/10\n",
            "6885/6885 [==============================] - 36s 5ms/step - loss: 6.0523 - val_loss: 5.3799\n",
            "Epoch 3/10\n",
            "6885/6885 [==============================] - 38s 6ms/step - loss: 5.9262 - val_loss: 5.3688\n",
            "Epoch 4/10\n",
            "6885/6885 [==============================] - 37s 5ms/step - loss: 5.8656 - val_loss: 5.3525\n",
            "Epoch 5/10\n",
            "6885/6885 [==============================] - 34s 5ms/step - loss: 5.8297 - val_loss: 5.3042\n",
            "Epoch 6/10\n",
            "6885/6885 [==============================] - 37s 5ms/step - loss: 5.8034 - val_loss: 5.2786\n",
            "Epoch 7/10\n",
            "6885/6885 [==============================] - 38s 6ms/step - loss: 5.7808 - val_loss: 5.3382\n",
            "Epoch 8/10\n",
            "6885/6885 [==============================] - 42s 6ms/step - loss: 5.7648 - val_loss: 5.2447\n",
            "Epoch 9/10\n",
            "6885/6885 [==============================] - 43s 6ms/step - loss: 5.7499 - val_loss: 5.3166\n",
            "Epoch 10/10\n",
            "6885/6885 [==============================] - 41s 6ms/step - loss: 5.7386 - val_loss: 5.3089\n"
          ]
        },
        {
          "output_type": "execute_result",
          "data": {
            "text/plain": [
              "<keras.callbacks.History at 0x7efe2c0bd420>"
            ]
          },
          "metadata": {},
          "execution_count": 11
        }
      ]
    },
    {
      "cell_type": "code",
      "source": [
        "# Train set 예측 결과와 RMSE 계산\n",
        "train_predictions1 = model2.predict(X_fold2_train)\n",
        "fold2_rmse1 = mean_squared_error(y_fold2_train, train_predictions1, squared=False)\n",
        "\n",
        "# Validation set 예측 결과와 RMSE 계산\n",
        "val_predictions1 = model2.predict(X_fold2_val)\n",
        "fold2_rmse2 = mean_squared_error(y_fold2_val, val_predictions1, squared=False)\n"
      ],
      "metadata": {
        "colab": {
          "base_uri": "https://localhost:8080/"
        },
        "id": "7yBu4LbMrMcO",
        "outputId": "a6823ca1-9633-4e66-9fa5-046af60c96d8"
      },
      "execution_count": null,
      "outputs": [
        {
          "output_type": "stream",
          "name": "stdout",
          "text": [
            "6885/6885 [==============================] - 23s 3ms/step\n",
            "1395/1395 [==============================] - 4s 3ms/step\n"
          ]
        }
      ]
    },
    {
      "cell_type": "code",
      "source": [
        "# Model 3\n",
        "model3 = Sequential()\n",
        "model3.add(LSTM(units=64, input_shape=(timesteps, 1)))\n",
        "model3.add(Dense(units=1))\n",
        "model3.compile(optimizer='adam', loss='mse')\n",
        "model3.fit(X_fold3_train, y_fold3_train, epochs=10, batch_size=32, validation_data=(X_fold3_val, y_fold3_val))"
      ],
      "metadata": {
        "id": "uWhfgi7FjSis",
        "colab": {
          "base_uri": "https://localhost:8080/"
        },
        "outputId": "6206c08a-7248-4bf5-edaf-495b71c04281"
      },
      "execution_count": null,
      "outputs": [
        {
          "output_type": "stream",
          "name": "stdout",
          "text": [
            "Epoch 1/10\n",
            "6840/6840 [==============================] - 44s 6ms/step - loss: 2.6685 - val_loss: 1.0481\n",
            "Epoch 2/10\n",
            "2513/6840 [==========>...................] - ETA: 24s - loss: 2.4899"
          ]
        }
      ]
    },
    {
      "cell_type": "code",
      "source": [
        "# Train set 예측 결과와 RMSE 계산\n",
        "train_predictions1 = model3.predict(X_fold3_train)\n",
        "fold3_rmse1 = mean_squared_error(y_fold3_train, train_predictions1, squared=False)\n",
        "\n",
        "# Validation set 예측 결과와 RMSE 계산\n",
        "val_predictions1 = model3.predict(X_fold3_val)\n",
        "fold3_rmse2 = mean_squared_error(y_fold3_val, val_predictions1, squared=False)\n"
      ],
      "metadata": {
        "id": "zoWX7ywurjJZ"
      },
      "execution_count": null,
      "outputs": []
    },
    {
      "cell_type": "code",
      "source": [
        "# Model 4\n",
        "model4 = Sequential()\n",
        "model4.add(LSTM(units=64, input_shape=(timesteps, 1)))\n",
        "model4.add(Dense(units=1))\n",
        "model4.compile(optimizer='adam', loss='mse')\n",
        "model4.fit(X_fold4_train, y_fold4_train, epochs=10, batch_size=32, validation_data=(X_fold4_val, y_fold4_val))"
      ],
      "metadata": {
        "id": "v8btstPujUAv"
      },
      "execution_count": null,
      "outputs": []
    },
    {
      "cell_type": "code",
      "source": [
        "# Train set 예측 결과와 RMSE 계산\n",
        "train_predictions1 = model4.predict(X_fold4_train)\n",
        "fold4_rmse1 = mean_squared_error(y_fold4_train, train_predictions1, squared=False)\n",
        "\n",
        "# Validation set 예측 결과와 RMSE 계산\n",
        "val_predictions1 = model4.predict(X_fold4_val)\n",
        "fold4_rmse2 = mean_squared_error(y_fold4_val, val_predictions1, squared=False)\n"
      ],
      "metadata": {
        "id": "seRF0tUNrt0i"
      },
      "execution_count": null,
      "outputs": []
    },
    {
      "cell_type": "code",
      "execution_count": null,
      "metadata": {
        "id": "AX_TRMDMWaXA"
      },
      "outputs": [],
      "source": [
        "# 결과 출력\n",
        "print(f\"Fold 1 Train RMSE: {fold1_rmse1}\")\n",
        "print(f\"Fold 1 Validation RMSE: {fold1_rmse2}\")\n",
        "print(f\"Fold 2 Train RMSE: {fold2_rmse1}\")\n",
        "print(f\"Fold 2 Validation RMSE: {fold2_rmse2}\")\n",
        "print(f\"Fold 3 Train RMSE: {fold3_rmse1}\")\n",
        "print(f\"Fold 3 Validation RMSE: {fold3_rmse2}\")\n",
        "print(f\"Fold 4 Train RMSE: {fold4_rmse1}\")\n",
        "print(f\"Fold 4 Validation RMSE: {fold4_rmse2}\")"
      ]
    },
    {
      "cell_type": "code",
      "source": [
        "train_rmse = [fold1_rmse1, fold2_rmse1, fold3_rmse1, fold4_rmse1]\n",
        "val_rmse = [fold1_rmse2, fold2_rmse2, fold3_rmse2, fold4_rmse2]\n",
        "fold_rmse=[]\n",
        "for i in range(0,4):\n",
        "  a=0\n",
        "  b=0\n",
        "  a= train_rmse[i]+val_rmse[i]\n",
        "  b=a/2\n",
        "  fold_rmse.append(b)\n",
        "fold_rmse"
      ],
      "metadata": {
        "id": "VD4fqUuLgagd"
      },
      "execution_count": null,
      "outputs": []
    },
    {
      "cell_type": "markdown",
      "source": [
        "test"
      ],
      "metadata": {
        "id": "Tzzhuyefgd58"
      }
    },
    {
      "cell_type": "code",
      "source": [
        "# .pkl 파일 경로 설정\n",
        "file_path = '/content/drive/MyDrive/1/df_test_잔차(6월만)의 사본'\n",
        "\n",
        "# Pickle 파일 열기\n",
        "df1= pd.read_pickle(file_path)"
      ],
      "metadata": {
        "id": "tWBHwBxfgdNL"
      },
      "execution_count": null,
      "outputs": []
    },
    {
      "cell_type": "code",
      "source": [
        "df1.reset_index(inplace=True)\n",
        "df1['Datetime']=pd.to_datetime(df1['Datetime'])\n",
        "\n",
        "df1['Year'] = df1['Datetime'].dt.year\n",
        "df1['Month'] = df1['Datetime'].dt.month\n",
        "df1.info()"
      ],
      "metadata": {
        "id": "q6fuZEg3gdf0"
      },
      "execution_count": null,
      "outputs": []
    },
    {
      "cell_type": "code",
      "source": [
        "X_test, y_test = df1.drop(['uv','Year', 'Month','Datetime'], axis=1), df1['uv']\n",
        "X_test = np.array(X_test)\n",
        "y_test = np.array(y_test)\n",
        "\n",
        "# 조정된 형태로 변환\n",
        "X_test = np.reshape(X_test, (X_test.shape[0], X_test.shape[1], 1))"
      ],
      "metadata": {
        "id": "V1XTotKCt7uJ"
      },
      "execution_count": null,
      "outputs": []
    },
    {
      "cell_type": "markdown",
      "source": [
        "제일 좋은 걸로 모델 바꿔야함"
      ],
      "metadata": {
        "id": "w42hIkJ_0ofY"
      }
    },
    {
      "cell_type": "code",
      "source": [
        "predictions = model1.predict(X_test)\n",
        "test_rmse1 = mean_squared_error(y_test, predictions, squared=False)"
      ],
      "metadata": {
        "id": "xGSOnj5FuDMQ"
      },
      "execution_count": null,
      "outputs": []
    },
    {
      "cell_type": "code",
      "source": [
        "print(f\"Test Validation RMSE: {test_rmse1}\")"
      ],
      "metadata": {
        "id": "t__-iSck0apc"
      },
      "execution_count": null,
      "outputs": []
    }
  ]
}