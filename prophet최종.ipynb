{
  "nbformat": 4,
  "nbformat_minor": 0,
  "metadata": {
    "colab": {
      "provenance": [],
      "gpuType": "T4"
    },
    "kernelspec": {
      "name": "python3",
      "display_name": "Python 3"
    },
    "language_info": {
      "name": "python"
    },
    "accelerator": "GPU"
  },
  "cells": [
    {
      "cell_type": "code",
      "source": [
        "from google.colab import drive\n",
        "drive.mount('/content/drive')"
      ],
      "metadata": {
        "id": "5HR7vNKe_llv",
        "colab": {
          "base_uri": "https://localhost:8080/"
        },
        "outputId": "a9201d48-64e8-45b6-eaec-265286d34412"
      },
      "execution_count": null,
      "outputs": [
        {
          "output_type": "stream",
          "name": "stdout",
          "text": [
            "Mounted at /content/drive\n"
          ]
        }
      ]
    },
    {
      "cell_type": "code",
      "source": [
        "import pandas as pd"
      ],
      "metadata": {
        "id": "ZhmUrmq2_3Dg"
      },
      "execution_count": null,
      "outputs": []
    },
    {
      "cell_type": "code",
      "source": [
        "# .pkl 파일 경로 설정\n",
        "file_path = '/content/drive/MyDrive/1/train_result_final1.pkl'\n",
        "\n",
        "# Pickle 파일 열기\n",
        "train = pd.read_pickle(file_path)"
      ],
      "metadata": {
        "id": "b_wAA8YM_oEQ"
      },
      "execution_count": null,
      "outputs": []
    },
    {
      "cell_type": "code",
      "source": [
        "# .pkl 파일 경로 설정\n",
        "#file_path = '/content/drive/MyDrive/1/test_result_final.pkl'\n",
        "\n",
        "# Pickle 파일 열기\n",
        "#test = pd.read_pickle(file_path)"
      ],
      "metadata": {
        "id": "dU0_i1zgbZGD"
      },
      "execution_count": null,
      "outputs": []
    },
    {
      "cell_type": "code",
      "source": [
        "! pip install prophet"
      ],
      "metadata": {
        "id": "JC-LbjXz_7vF",
        "colab": {
          "base_uri": "https://localhost:8080/"
        },
        "outputId": "5c4c885d-1c88-46fa-c445-6bdf16908adf"
      },
      "execution_count": null,
      "outputs": [
        {
          "output_type": "stream",
          "name": "stdout",
          "text": [
            "Looking in indexes: https://pypi.org/simple, https://us-python.pkg.dev/colab-wheels/public/simple/\n",
            "Requirement already satisfied: prophet in /usr/local/lib/python3.10/dist-packages (1.1.3)\n",
            "Requirement already satisfied: cmdstanpy>=1.0.4 in /usr/local/lib/python3.10/dist-packages (from prophet) (1.1.0)\n",
            "Requirement already satisfied: numpy>=1.15.4 in /usr/local/lib/python3.10/dist-packages (from prophet) (1.22.4)\n",
            "Requirement already satisfied: matplotlib>=2.0.0 in /usr/local/lib/python3.10/dist-packages (from prophet) (3.7.1)\n",
            "Requirement already satisfied: pandas>=1.0.4 in /usr/local/lib/python3.10/dist-packages (from prophet) (1.5.3)\n",
            "Requirement already satisfied: LunarCalendar>=0.0.9 in /usr/local/lib/python3.10/dist-packages (from prophet) (0.0.9)\n",
            "Requirement already satisfied: convertdate>=2.1.2 in /usr/local/lib/python3.10/dist-packages (from prophet) (2.4.0)\n",
            "Requirement already satisfied: holidays>=0.14.2 in /usr/local/lib/python3.10/dist-packages (from prophet) (0.25)\n",
            "Requirement already satisfied: python-dateutil>=2.8.0 in /usr/local/lib/python3.10/dist-packages (from prophet) (2.8.2)\n",
            "Requirement already satisfied: tqdm>=4.36.1 in /usr/local/lib/python3.10/dist-packages (from prophet) (4.65.0)\n",
            "Requirement already satisfied: importlib-resources in /usr/local/lib/python3.10/dist-packages (from prophet) (5.12.0)\n",
            "Requirement already satisfied: pymeeus<=1,>=0.3.13 in /usr/local/lib/python3.10/dist-packages (from convertdate>=2.1.2->prophet) (0.5.12)\n",
            "Requirement already satisfied: korean-lunar-calendar in /usr/local/lib/python3.10/dist-packages (from holidays>=0.14.2->prophet) (0.3.1)\n",
            "Requirement already satisfied: ephem>=3.7.5.3 in /usr/local/lib/python3.10/dist-packages (from LunarCalendar>=0.0.9->prophet) (4.1.4)\n",
            "Requirement already satisfied: pytz in /usr/local/lib/python3.10/dist-packages (from LunarCalendar>=0.0.9->prophet) (2022.7.1)\n",
            "Requirement already satisfied: contourpy>=1.0.1 in /usr/local/lib/python3.10/dist-packages (from matplotlib>=2.0.0->prophet) (1.0.7)\n",
            "Requirement already satisfied: cycler>=0.10 in /usr/local/lib/python3.10/dist-packages (from matplotlib>=2.0.0->prophet) (0.11.0)\n",
            "Requirement already satisfied: fonttools>=4.22.0 in /usr/local/lib/python3.10/dist-packages (from matplotlib>=2.0.0->prophet) (4.39.3)\n",
            "Requirement already satisfied: kiwisolver>=1.0.1 in /usr/local/lib/python3.10/dist-packages (from matplotlib>=2.0.0->prophet) (1.4.4)\n",
            "Requirement already satisfied: packaging>=20.0 in /usr/local/lib/python3.10/dist-packages (from matplotlib>=2.0.0->prophet) (23.1)\n",
            "Requirement already satisfied: pillow>=6.2.0 in /usr/local/lib/python3.10/dist-packages (from matplotlib>=2.0.0->prophet) (8.4.0)\n",
            "Requirement already satisfied: pyparsing>=2.3.1 in /usr/local/lib/python3.10/dist-packages (from matplotlib>=2.0.0->prophet) (3.0.9)\n",
            "Requirement already satisfied: six>=1.5 in /usr/local/lib/python3.10/dist-packages (from python-dateutil>=2.8.0->prophet) (1.16.0)\n"
          ]
        }
      ]
    },
    {
      "cell_type": "code",
      "source": [
        "from sklearn.metrics import mean_squared_error\n",
        "from sklearn.model_selection import TimeSeriesSplit\n",
        "import numpy as np\n",
        "from prophet import Prophet\n",
        "from sklearn.metrics import mean_squared_error\n",
        "model = Prophet()"
      ],
      "metadata": {
        "id": "4urKNobTDLqT"
      },
      "execution_count": null,
      "outputs": []
    },
    {
      "cell_type": "code",
      "source": [
        "df=train\n",
        "df.reset_index(inplace=True)\n",
        "df['Datetime']=pd.to_datetime(df['Datetime'])\n",
        "df.info()"
      ],
      "metadata": {
        "colab": {
          "base_uri": "https://localhost:8080/"
        },
        "id": "Zkq_60MXp55E",
        "outputId": "859dbf27-7437-4b08-8890-3fbf2832c14e"
      },
      "execution_count": null,
      "outputs": [
        {
          "output_type": "stream",
          "name": "stdout",
          "text": [
            "<class 'pandas.core.frame.DataFrame'>\n",
            "RangeIndex: 1052640 entries, 0 to 1052639\n",
            "Data columns (total 6 columns):\n",
            " #   Column      Non-Null Count    Dtype         \n",
            "---  ------      --------------    -----         \n",
            " 0   Datetime    1052640 non-null  datetime64[ns]\n",
            " 1   component1  1052640 non-null  float64       \n",
            " 2   component2  1052640 non-null  float64       \n",
            " 3   component3  1052640 non-null  float64       \n",
            " 4   component4  1052640 non-null  float64       \n",
            " 5   uv          1052640 non-null  float64       \n",
            "dtypes: datetime64[ns](1), float64(5)\n",
            "memory usage: 48.2 MB\n"
          ]
        }
      ]
    },
    {
      "cell_type": "code",
      "source": [
        "X = pd.DataFrame(df['ds'])\n",
        "y = pd.DataFrame(df['y'])"
      ],
      "metadata": {
        "id": "J6e7Ug7fg-Pz"
      },
      "execution_count": null,
      "outputs": []
    },
    {
      "cell_type": "code",
      "source": [
        "df['ds'] = df['Datetime']\n",
        "df['y'] = df['uv']\n",
        "df['Year'] = df['ds'].dt.year\n",
        "df['Month'] = df['ds'].dt.month"
      ],
      "metadata": {
        "id": "pxZBjOuLG48A"
      },
      "execution_count": null,
      "outputs": []
    },
    {
      "cell_type": "code",
      "source": [
        "fold1_train = df[(df['Year'] == 2020) & (df['Month'].isin([3, 4, 5]))]\n",
        "fold1_train = pd.concat([fold1_train, df[(df['Year'] == 2021) & (df['Month'].isin([3, 4]))]])\n",
        "fold1_val = df[(df['Year'] == 2021) & (df['Month'] == 5)]\n",
        "\n",
        "fold2_train = df[(df['Year'] == 2020) & (df['Month'].isin([6, 7, 8]))]\n",
        "fold2_train = pd.concat([fold2_train, df[(df['Year'] == 2021) & (df['Month'].isin([6, 7]))]])\n",
        "fold2_val = df[(df['Year'] == 2021) & (df['Month'] == 8)]\n",
        "\n",
        "fold3_train = df[(df['Year'] == 2020) & (df['Month'].isin([9, 10, 11]))]\n",
        "fold3_train = pd.concat([fold3_train, df[(df['Year'] == 2021) & (df['Month'].isin([9, 10]))]])\n",
        "fold3_val = df[(df['Year'] == 2021) & (df['Month'] == 11)]\n",
        "\n",
        "fold4_train = df[(df['Year'] == 2020) & (df['Month'].isin([12, 1, 2]))]\n",
        "fold4_train = pd.concat([fold4_train, df[(df['Year'] == 2021) & (df['Month'].isin([1, 2]))]])\n",
        "fold4_val = df[(df['Year'] == 2021) & (df['Month'] == 12)]"
      ],
      "metadata": {
        "id": "py9cX4A_EXqi"
      },
      "execution_count": null,
      "outputs": []
    },
    {
      "cell_type": "code",
      "source": [
        "fold1_train = fold1_train.drop(['Year', 'Month', 'Datetime', 'uv'], axis=1)\n",
        "fold1_val = fold1_val.drop(['Year', 'Month', 'Datetime', 'uv'], axis=1)\n",
        "\n",
        "fold2_train = fold2_train.drop(['Year', 'Month', 'Datetime', 'uv'], axis=1)\n",
        "fold2_val = fold2_val.drop(['Year', 'Month', 'Datetime', 'uv'], axis=1)\n",
        "\n",
        "fold3_train = fold3_train.drop(['Year', 'Month', 'Datetime', 'uv'], axis=1)\n",
        "fold3_val = fold3_val.drop(['Year', 'Month', 'Datetime', 'uv'], axis=1)\n",
        "\n",
        "fold4_train = fold4_train.drop(['Year', 'Month', 'Datetime', 'uv'], axis=1)\n",
        "fold4_val = fold4_val.drop(['Year', 'Month', 'Datetime', 'uv'], axis=1)"
      ],
      "metadata": {
        "id": "IQiWMx_7EXlR"
      },
      "execution_count": null,
      "outputs": []
    },
    {
      "cell_type": "code",
      "source": [
        "model1 = Prophet()\n",
        "model1.add_regressor('component1')\n",
        "model1.add_regressor('component2')\n",
        "model1.add_regressor('component3')\n",
        "model1.add_regressor('component4')\n",
        "\n",
        "model1.fit(fold1_train[['ds', 'y', 'component1', 'component2', 'component3', 'component4']])\n",
        "\n",
        "fold1_forecast1 = model1.predict(fold1_train[['ds', 'component1', 'component2', 'component3', 'component4']])\n",
        "fold1_mse1 = mean_squared_error(fold1_train['y'], fold1_forecast1['yhat'], squared=False)\n",
        "fold1_rmse1 = np.sqrt(fold1_mse1)\n",
        "fold1_forecast2 = model1.predict(fold1_val[['ds', 'component1', 'component2', 'component3', 'component4']])\n",
        "fold1_mse2 = mean_squared_error(fold1_val['y'], fold1_forecast2['yhat'], squared=False)\n",
        "fold1_rmse1 = np.sqrt(fold1_mse2)"
      ],
      "metadata": {
        "id": "dhoGMykMEwF0"
      },
      "execution_count": null,
      "outputs": []
    },
    {
      "cell_type": "code",
      "source": [
        "model2 = Prophet()\n",
        "model2.add_regressor('component1')\n",
        "model2.add_regressor('component2')\n",
        "model2.add_regressor('component3')\n",
        "model2.add_regressor('component4')\n",
        "\n",
        "model2.fit(fold2_train[['ds', 'y', 'component1', 'component2', 'component3', 'component4']])\n",
        "\n",
        "fold2_forecast1 = model2.predict(fold2_train[['ds', 'component1', 'component2', 'component3', 'component4']])\n",
        "fold2_mse1 = mean_squared_error(fold2_train['y'], fold2_forecast1['yhat'], squared=False)\n",
        "fold2_rmse1 = np.sqrt(fold2_mse1)\n",
        "fold2_forecast2 = model2.predict(fold2_val[['ds', 'component1', 'component2', 'component3', 'component4']])\n",
        "fold2_mse2 = mean_squared_error(fold2_val['y'], fold2_forecast2['yhat'], squared=False)\n",
        "fold2_rmse2 = np.sqrt(fold2_mse2)"
      ],
      "metadata": {
        "id": "D4iL-G-CHDmK"
      },
      "execution_count": null,
      "outputs": []
    },
    {
      "cell_type": "code",
      "source": [
        "model3 = Prophet()\n",
        "model3.add_regressor('component1')\n",
        "model3.add_regressor('component2')\n",
        "model3.add_regressor('component3')\n",
        "model3.add_regressor('component4')\n",
        "\n",
        "model3.fit(fold3_train[['ds', 'y', 'component1', 'component2', 'component3', 'component4']])\n",
        "\n",
        "fold3_forecast1 = model3.predict(fold3_train[['ds', 'component1', 'component2', 'component3', 'component4']])\n",
        "fold3_mse1 = mean_squared_error(fold3_train['y'], fold1_forecast1['yhat'], squared=False)\n",
        "fold3_rmse1 = np.sqrt(fold3_mse1)\n",
        "fold3_forecast2 = model3.predict(fold3_val[['ds', 'component1', 'component2', 'component3', 'component4']])\n",
        "fold3_mse2 = mean_squared_error(fold3_val['y'], fold3_forecast2['yhat'], squared=False)\n",
        "fold3_rmse2 = np.sqrt(fold3_mse2)"
      ],
      "metadata": {
        "id": "UEnUUh5dKU-G"
      },
      "execution_count": null,
      "outputs": []
    },
    {
      "cell_type": "code",
      "source": [
        "model4 = Prophet()\n",
        "model4.add_regressor('component1')\n",
        "model4.add_regressor('component2')\n",
        "model4.add_regressor('component3')\n",
        "model4.add_regressor('component4')\n",
        "\n",
        "model4.fit(fold4_train[['ds', 'y', 'component1', 'component2', 'component3', 'component4']])\n",
        "\n",
        "fold4_forecast1 = model4.predict(fold4_train[['ds', 'component1', 'component2', 'component3', 'component4']])\n",
        "fold4_mse1 = mean_squared_error(fold4_train['y'], fold4_forecast1['yhat'], squared=False)\n",
        "fold4_rmse1 = np.sqrt(fold4_mse1)\n",
        "fold4_forecast2 = model4.predict(fold4_val[['ds', 'component1', 'component2', 'component3', 'component4']])\n",
        "fold4_mse2 = mean_squared_error(fold4_val['y'], fold4_forecast2['yhat'], squared=False)\n",
        "fold4_rmse2 = np.sqrt(fold4_mse2)"
      ],
      "metadata": {
        "id": "id66GR9gKpnV"
      },
      "execution_count": null,
      "outputs": []
    },
    {
      "cell_type": "code",
      "source": [
        "# 결과 출력\n",
        "print(f\"Fold 1 Train RMSE: {fold1_rmse1}\")\n",
        "print(f\"Fold 1 Validation RMSE: {fold1_rmse2}\")\n",
        "print(f\"Fold 2 Train RMSE: {fold2_rmse1}\")\n",
        "print(f\"Fold 2 Validation RMSE: {fold2_rmse2}\")\n",
        "print(f\"Fold 3 Train RMSE: {fold3_rmse1}\")\n",
        "print(f\"Fold 3 Validation RMSE: {fold3_rmse2}\")\n",
        "print(f\"Fold 4 Train RMSE: {fold4_rmse1}\")\n",
        "print(f\"Fold 4 Validation RMSE: {fold4_rmse2}\")"
      ],
      "metadata": {
        "id": "vVs8965ZHNbc"
      },
      "execution_count": null,
      "outputs": []
    },
    {
      "cell_type": "code",
      "source": [
        "train_rmse = [fold1_rmse1, fold2_rmse1, fold3_rmse1, fold4_rmse1]\n",
        "val_rmse = [fold1_rmse2, fold2_rmse2, fold3_rmse2, fold4_rmse2]\n",
        "fold_rmse=[]\n",
        "\n",
        "for i in range(0,4):\n",
        "  a=0\n",
        "  b=0\n",
        "  a= train_rmse[i]+val_rmse[i]\n",
        "  b=a/2\n",
        "  fold_rmse.append(b)\n",
        "fold_rmse"
      ],
      "metadata": {
        "id": "tUlUI4jsRkWK"
      },
      "execution_count": null,
      "outputs": []
    },
    {
      "cell_type": "code",
      "source": [
        "df1=test"
      ],
      "metadata": {
        "id": "OcrQzlHFVhW8"
      },
      "execution_count": null,
      "outputs": []
    },
    {
      "cell_type": "code",
      "source": [
        "df1.reset_index(inplace=True)\n",
        "df1['Datetime']=pd.to_datetime(df['Datetime'])\n",
        "df1['ds'] = df['Datetime']\n",
        "df1['y'] = df['uv']"
      ],
      "metadata": {
        "id": "Cykgwb0TVfmu"
      },
      "execution_count": null,
      "outputs": []
    },
    {
      "cell_type": "code",
      "source": [
        "# 실제 test set 데이터 준비 (X_test는 종속 변수를 제외한 특성 데이터)\n",
        "test_x= df1.drop('uv', axis=1)\n",
        "test_y = df1['y']"
      ],
      "metadata": {
        "id": "Q7TlD19HTkUM"
      },
      "execution_count": null,
      "outputs": []
    },
    {
      "cell_type": "code",
      "source": [
        "#고른 모델로"
      ],
      "metadata": {
        "id": "AlF0IiO6Rz3v"
      },
      "execution_count": null,
      "outputs": []
    },
    {
      "cell_type": "code",
      "source": [
        "forecast = model111.predict(test_x[['ds', 'component1', 'component2', 'component3', 'component4']])\n",
        "test_rmse = mean_squared_error(test_y['y'], forecast['yhat'], squared=False)\n",
        "\n",
        "print(f\"Test Set RMSE: {test_rmse}\")"
      ],
      "metadata": {
        "id": "QHPDpLvDVGt6"
      },
      "execution_count": null,
      "outputs": []
    }
  ]
}