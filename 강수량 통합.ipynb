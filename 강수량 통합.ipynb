{
 "cells": [
  {
   "cell_type": "code",
   "execution_count": 1,
   "id": "d0694feb",
   "metadata": {},
   "outputs": [],
   "source": [
    "import pandas as pd\n",
    "import numpy as np\n",
    "import os"
   ]
  },
  {
   "cell_type": "code",
   "execution_count": 2,
   "id": "4bb71e33",
   "metadata": {},
   "outputs": [
    {
     "name": "stdout",
     "output_type": "stream",
     "text": [
      "file_list: ['대전2020.csv', '목포2020.csv', '보령2020.csv', '전주2020.csv', '제주2020.csv', '청주2020.csv', '포항2020.csv']\n"
     ]
    }
   ],
   "source": [
    "file_list1 = os.listdir(\"강수량/강수량2020\")\n",
    "print (\"file_list: {}\".format(file_list1))"
   ]
  },
  {
   "cell_type": "code",
   "execution_count": 3,
   "id": "6a118760",
   "metadata": {},
   "outputs": [
    {
     "name": "stdout",
     "output_type": "stream",
     "text": [
      "file_list: ['대전2021.csv', '목포2021.csv', '보령2021.csv', '전주2021.csv', '제주2021.csv', '청주2021.csv', '포항2021.csv']\n"
     ]
    }
   ],
   "source": [
    "file_list2 = os.listdir(\"강수량/강수량2021\")\n",
    "print (\"file_list: {}\".format(file_list2))"
   ]
  },
  {
   "cell_type": "code",
   "execution_count": 4,
   "id": "fb3219ef",
   "metadata": {},
   "outputs": [],
   "source": [
    "n = [0]*2\n",
    "df = [0]*7\n",
    "\n",
    "for i in range(7):\n",
    "    n[0] = pd.read_csv(f'강수량/강수량2020/{file_list1[i]}')\n",
    "    n[1] = pd.read_csv(f'강수량/강수량2021/{file_list2[i]}')\n",
    "    n[0] = n[0].iloc[:,-1]\n",
    "    n[1] = n[1].iloc[:,-1]\n",
    "    nn = pd.concat([n[0],n[1]])\n",
    "    nn = nn.dropna(axis=0)\n",
    "    df[i] = pd.DataFrame(np.repeat(nn.values, 6, axis=0))\n",
    "    df[i].columns = ['강수량']"
   ]
  },
  {
   "cell_type": "code",
   "execution_count": 13,
   "id": "dfc1f9e1",
   "metadata": {},
   "outputs": [
    {
     "data": {
      "text/html": [
       "<div>\n",
       "<style scoped>\n",
       "    .dataframe tbody tr th:only-of-type {\n",
       "        vertical-align: middle;\n",
       "    }\n",
       "\n",
       "    .dataframe tbody tr th {\n",
       "        vertical-align: top;\n",
       "    }\n",
       "\n",
       "    .dataframe thead th {\n",
       "        text-align: right;\n",
       "    }\n",
       "</style>\n",
       "<table border=\"1\" class=\"dataframe\">\n",
       "  <thead>\n",
       "    <tr style=\"text-align: right;\">\n",
       "      <th></th>\n",
       "      <th>강수량</th>\n",
       "    </tr>\n",
       "  </thead>\n",
       "  <tbody>\n",
       "    <tr>\n",
       "      <th>0</th>\n",
       "      <td>0.0</td>\n",
       "    </tr>\n",
       "    <tr>\n",
       "      <th>1</th>\n",
       "      <td>0.0</td>\n",
       "    </tr>\n",
       "    <tr>\n",
       "      <th>2</th>\n",
       "      <td>0.0</td>\n",
       "    </tr>\n",
       "    <tr>\n",
       "      <th>3</th>\n",
       "      <td>0.0</td>\n",
       "    </tr>\n",
       "    <tr>\n",
       "      <th>4</th>\n",
       "      <td>0.0</td>\n",
       "    </tr>\n",
       "    <tr>\n",
       "      <th>...</th>\n",
       "      <td>...</td>\n",
       "    </tr>\n",
       "    <tr>\n",
       "      <th>105259</th>\n",
       "      <td>0.0</td>\n",
       "    </tr>\n",
       "    <tr>\n",
       "      <th>105260</th>\n",
       "      <td>0.0</td>\n",
       "    </tr>\n",
       "    <tr>\n",
       "      <th>105261</th>\n",
       "      <td>0.0</td>\n",
       "    </tr>\n",
       "    <tr>\n",
       "      <th>105262</th>\n",
       "      <td>0.0</td>\n",
       "    </tr>\n",
       "    <tr>\n",
       "      <th>105263</th>\n",
       "      <td>0.0</td>\n",
       "    </tr>\n",
       "  </tbody>\n",
       "</table>\n",
       "<p>105264 rows × 1 columns</p>\n",
       "</div>"
      ],
      "text/plain": [
       "        강수량\n",
       "0       0.0\n",
       "1       0.0\n",
       "2       0.0\n",
       "3       0.0\n",
       "4       0.0\n",
       "...     ...\n",
       "105259  0.0\n",
       "105260  0.0\n",
       "105261  0.0\n",
       "105262  0.0\n",
       "105263  0.0\n",
       "\n",
       "[105264 rows x 1 columns]"
      ]
     },
     "execution_count": 13,
     "metadata": {},
     "output_type": "execute_result"
    }
   ],
   "source": [
    "df[6]"
   ]
  },
  {
   "cell_type": "code",
   "execution_count": 6,
   "id": "a8dfb44b",
   "metadata": {},
   "outputs": [],
   "source": [
    "name_list = ['대전강수량','목포강수량','보령강수량','전주강수량','제주강수량','청주강수량','포항강수량']"
   ]
  },
  {
   "cell_type": "code",
   "execution_count": 7,
   "id": "e3e9db14",
   "metadata": {},
   "outputs": [],
   "source": [
    "for i in range(7):\n",
    "    df[i].to_csv(f'강수량/{name_list[i]}.csv', index=False)"
   ]
  }
 ],
 "metadata": {
  "kernelspec": {
   "display_name": "Python 3 (ipykernel)",
   "language": "python",
   "name": "python3"
  },
  "language_info": {
   "codemirror_mode": {
    "name": "ipython",
    "version": 3
   },
   "file_extension": ".py",
   "mimetype": "text/x-python",
   "name": "python",
   "nbconvert_exporter": "python",
   "pygments_lexer": "ipython3",
   "version": "3.9.13"
  }
 },
 "nbformat": 4,
 "nbformat_minor": 5
}
